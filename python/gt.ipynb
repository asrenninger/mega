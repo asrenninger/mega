{
 "cells": [
  {
   "cell_type": "code",
   "execution_count": 26,
   "id": "2e16993d",
   "metadata": {},
   "outputs": [],
   "source": [
    "import graph_tool.all as gt\n",
    "import matplotlib as mpl\n",
    "\n",
    "from graph_tool import centrality\n",
    "from graph_tool import spectral\n",
    "from graph_tool import clustering\n",
    "\n",
    "import math"
   ]
  },
  {
   "cell_type": "code",
   "execution_count": 2,
   "id": "35e9c80c",
   "metadata": {},
   "outputs": [],
   "source": [
    "g = gt.collection.ns[\"eu_airlines\"]"
   ]
  },
  {
   "cell_type": "code",
   "execution_count": 44,
   "id": "9b1ae911",
   "metadata": {},
   "outputs": [
    {
     "data": {
      "text/plain": [
       "<VertexPropertyMap object with value type 'vector<double>', for Graph 0x109cf7250, at 0x109db9340>"
      ]
     },
     "execution_count": 44,
     "metadata": {},
     "output_type": "execute_result"
    }
   ],
   "source": [
    "cen = centrality.pagerank(g)\n",
    "deg = g.degree_property_map(\"total\")\n",
    "pos = gt.sfdp_layout(g)\n",
    "\n",
    "gt.graph_draw(g, pos, output_size=(5000, 5000), vertex_color=[1,1,1,0],\n",
    "              vertex_fill_color=cen, vertex_size=deg, edge_pen_width=10,\n",
    "              vcmap=mpl.cm.turbo, output=\"eurotest.png\")"
   ]
  },
  {
   "cell_type": "code",
   "execution_count": null,
   "id": "b8d14b62",
   "metadata": {},
   "outputs": [],
   "source": []
  }
 ],
 "metadata": {
  "kernelspec": {
   "display_name": "Python 3 (ipykernel)",
   "language": "python",
   "name": "python3"
  },
  "language_info": {
   "codemirror_mode": {
    "name": "ipython",
    "version": 3
   },
   "file_extension": ".py",
   "mimetype": "text/x-python",
   "name": "python",
   "nbconvert_exporter": "python",
   "pygments_lexer": "ipython3",
   "version": "3.9.6"
  }
 },
 "nbformat": 4,
 "nbformat_minor": 5
}
